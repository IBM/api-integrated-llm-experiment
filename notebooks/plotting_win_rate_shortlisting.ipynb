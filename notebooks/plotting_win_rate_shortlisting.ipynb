{
 "cells": [
  {
   "cell_type": "code",
   "execution_count": null,
   "metadata": {},
   "outputs": [],
   "source": [
    "import sys\n",
    "import os\n",
    "\n",
    "module_path = os.path.abspath(os.path.join(\"..\"))\n",
    "if module_path not in sys.path:\n",
    "    sys.path.append(module_path)"
   ]
  },
  {
   "cell_type": "code",
   "execution_count": null,
   "metadata": {},
   "outputs": [],
   "source": [
    "from pathlib import Path\n",
    "\n",
    "from api_integrated_llm.helpers.file_helper import get_dict_from_json\n",
    "\n",
    "\n",
    "current_path = os.path.abspath(os.path.join(\".\"))\n",
    "\n",
    "obj = get_dict_from_json(file_path=Path(os.path.join(current_path, \"data\", \"shortlisting_win_rate.json\")))"
   ]
  },
  {
   "cell_type": "code",
   "execution_count": null,
   "metadata": {},
   "outputs": [],
   "source": [
    "model_dict = {}\n",
    "for model_name_pcs, content in obj.items():\n",
    "    pct = int(model_name_pcs.split(\"_\")[-1][:-3])\n",
    "    model_name = model_name_pcs.split(\"_\")[0]\n",
    "    if model_name not in model_dict:\n",
    "        model_dict[model_name] = []\n",
    "    model_dict[model_name].append((pct, content[\"total_micro\"][\"win_rate\"]))\n",
    "\n",
    "for model_name in model_dict.keys():\n",
    "    sorted_data = sorted(model_dict[model_name], key=lambda unit: unit[0])\n",
    "    model_dict[model_name] = {\"x\": list(map(lambda unit: unit[0], sorted_data)), \"y\": list(map(lambda unit: unit[1], sorted_data))}\n",
    "print(model_dict)"
   ]
  },
  {
   "cell_type": "code",
   "execution_count": null,
   "metadata": {},
   "outputs": [],
   "source": [
    "import matplotlib.pyplot as plt\n",
    "fig, ax = plt.subplots()\n",
    "current_model_name = \"\"\n",
    "for model_name, content in model_dict.items():\n",
    "    current_model_name = model_name\n",
    "    plt.plot(content[\"x\"], content[\"y\"], label=model_name)\n",
    "plt.xlabel(\"Pct\")\n",
    "plt.ylabel(\"Completion rate\")\n",
    "ax.set_xticks(model_dict[model_name][\"x\"])\n",
    "ax.set_xticklabels(model_dict[model_name][\"x\"])\n",
    "plt.legend()\n",
    "plt.grid()\n",
    "current_axes = plt.gca()\n",
    "current_axes.spines['top'].set_visible(False)\n",
    "current_axes.spines['right'].set_visible(False)\n",
    "plt.savefig('rest_pct_model_win_rate_set.svg', bbox_inches='tight')\n",
    "plt.savefig('rest_pct_model_win_rate_set.png', bbox_inches='tight')"
   ]
  }
 ],
 "metadata": {
  "kernelspec": {
   "display_name": "ail",
   "language": "python",
   "name": "python3"
  },
  "language_info": {
   "codemirror_mode": {
    "name": "ipython",
    "version": 3
   },
   "file_extension": ".py",
   "mimetype": "text/x-python",
   "name": "python",
   "nbconvert_exporter": "python",
   "pygments_lexer": "ipython3",
   "version": "3.12.9"
  }
 },
 "nbformat": 4,
 "nbformat_minor": 2
}
