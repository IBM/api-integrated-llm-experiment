{
 "cells": [
  {
   "cell_type": "code",
   "execution_count": 2,
   "metadata": {},
   "outputs": [],
   "source": [
    "import sys\n",
    "import os\n",
    "\n",
    "module_path = os.path.abspath(os.path.join(\"..\"))\n",
    "if module_path not in sys.path:\n",
    "    sys.path.append(module_path)"
   ]
  },
  {
   "cell_type": "code",
   "execution_count": null,
   "metadata": {},
   "outputs": [
    {
     "name": "stdout",
     "output_type": "stream",
     "text": [
      "ab\n"
     ]
    }
   ],
   "source": [
    "from api_integrated_llm.helpers.database_helper.local_llm_helper import (\n",
    "    get_response_from_llm_with_tokenizer,\n",
    ")\n",
    "\n",
    "\n",
    "model_obj = {\n",
    "    \"inference_type\": \"LOCAL\",\n",
    "    \"model\": \"BEE-spoke-data/smol_llama-101M-GQA\",\n",
    "    \"endpoint\": \"BEE-spoke-data/smol_llama-101M-GQA\",\n",
    "    \"tokenizer\": \"BEE-spoke-data/smol_llama-101M-GQA\",\n",
    "    \"model_url\": \"/Users/jungkookang/Documents/projects/api_integrated_llm_experiment/llm_saves/smol_llama-101M-GQA\",\n",
    "    \"tokenizer_url\": \"/Users/jungkookang/Documents/projects/api_integrated_llm_experiment/tokenizer_saves/smol_llama-101M-GQA\",\n",
    "    \"should_use_autoprocessor\": False,\n",
    "}\n",
    "input = \"hello!\"\n",
    "response = get_response_from_llm_with_tokenizer(\n",
    "    input=input, model_obj=model_obj, temperature=0.0, max_tokens=100\n",
    ")\n",
    "assert response is not None\n",
    "assert len(response) > 0"
   ]
  }
 ],
 "metadata": {
  "kernelspec": {
   "display_name": "template",
   "language": "python",
   "name": "python3"
  },
  "language_info": {
   "codemirror_mode": {
    "name": "ipython",
    "version": 3
   },
   "file_extension": ".py",
   "mimetype": "text/x-python",
   "name": "python",
   "nbconvert_exporter": "python",
   "pygments_lexer": "ipython3",
   "version": "3.10.14"
  }
 },
 "nbformat": 4,
 "nbformat_minor": 2
}
